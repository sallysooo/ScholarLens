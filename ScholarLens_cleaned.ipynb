{
 "cells": [
  {
   "cell_type": "markdown",
   "metadata": {
    "id": "thwTnXW7mEIb"
   },
   "source": [
    "## [1] 논문 요약 기능"
   ]
  },
  {
   "cell_type": "code",
   "execution_count": null,
   "metadata": {
    "colab": {
     "base_uri": "https://localhost:8080/"
    },
    "id": "trjD_ev9mWro",
    "outputId": "45b08b78-9c52-42da-9362-9feb6c5e31ab"
   },
   "outputs": [],
   "source": [
    "!pip install transformers torch PyMuPDF --quiet"
   ]
  },
  {
   "cell_type": "code",
   "execution_count": null,
   "metadata": {
    "id": "1JZpblYymWk2"
   },
   "outputs": [],
   "source": [
    "import re\n",
    "import fitz\n",
    "import textwrap\n",
    "from transformers import pipeline\n",
    "from pathlib import Path"
   ]
  },
  {
   "cell_type": "code",
   "execution_count": null,
   "metadata": {
    "colab": {
     "base_uri": "https://localhost:8080/",
     "height": 338,
     "referenced_widgets": [
      "d2f5ec8b2681409b8fb8d12062bc7087",
      "ba63dc37eb1c4439a9448e47a4345202",
      "65a7a6591a5d47a09471e1d106d4e4f3",
      "8915babc6c214d5591cec4c227b0d4ae",
      "88b3cb63d35c4e3393e91b1d6fdbc1f1",
      "997ebcf568a44ec19f90e4ebde94a7b4",
      "0842d0692c0840578dba2df8cf4fbd9c",
      "541848f81d294e88836a889bdc292ade",
      "ae8d02b1d0be4faba2308f07181b90a4",
      "2a94a9ce4be4465f9065faf013c368da",
      "d1ea061b279348199a82262a1f7cc208",
      "d62b83e880d34bf5bd10b91845d1e57b",
      "23c1ce5c64f34ed2a008c2ed0b266bdc",
      "bfadd5328c8d49aea3aaf5278434c34f",
      "c15ec80a2c8c432bb416a28ea56e1e06",
      "94be6d3de9a144eba27c1ab4f4311f1b",
      "a36f72a43439428fbc078ddf896c5407",
      "88e6511539434a5ea7a17244adf65e04",
      "f0dd76608ad94bdca0508ef62a5c7622",
      "693f10e1ec5c483f8664a0b357649fe4",
      "0a7d37c142e848a68a1f4b334c97de67",
      "47177f82daa34455ac86f035962b8818",
      "193c870690a447e595f7ed7bac472a7f",
      "a2897cc0676f4d99a4e4a1a26f0d8529",
      "d6df7cf580b0473d8f2350756532d82d",
      "012b75c8213944109f54012d1e212391",
      "eb452fd34761445d8e005606666ef195",
      "c80736ad5fdd4b39a4bee2509693d67f",
      "e5c1fef88054486f98750e85ce6f4122",
      "28520775c9af4e149198bd0ffdf6169a",
      "f029ca5f77064438a0c5c35c0569d82c",
      "be46428cc6484b0b8cfa53a335b3ed26",
      "cc0478b82ff14b738cf031514a4bbb02",
      "80fc8be4f6c344c6bbe7b76d495cef4f",
      "3cebaf14b60b4ecc88c00403040cc251",
      "8336c0010a534b8090367636f76b68c8",
      "7fdd4069e9294beabdf168101dbc797b",
      "b888aa1c345544159e77a6019b69941d",
      "e139bb54269f4dffa0ae27f5f0c8b799",
      "58e2cb34a2e64fd29f7bc336399af003",
      "c7021f98b31844fa8709f68c5be4de16",
      "29d3b39e8599421fa593a5cd41b0b080",
      "39dcbc8d47c94a1282e6d553062e8a05",
      "695afa83ead44f279a18d7bd51760995",
      "5a30eff474ce44c1888946c45101999d",
      "b19f9c78250e4fffaf73b7fc28d8167b",
      "e6a0151b388e494a94afac686e9f44cd",
      "9869a37efc6b4529807935ac7d02fdf0",
      "3fa2ad44afc64b6bb7ebb3a2271b677d",
      "c17cb3c3a79143e18065dd73180a7672",
      "2fa080c61eeb4889adfac1bab64a10ef",
      "6ecd0d880c664783935b17f3e0dae7d8",
      "f46793c3a32741cb82ee44ceb9614804",
      "ad4028405ae0423eb21f4f330e28ac52",
      "586784e1cc8e4b21bbdfcbf45d7c2ca3",
      "43f43d6f39dc46d5a8fe3e78adff1ae5",
      "c2b0157146e5430e87157a3e9e1f2457",
      "ac5481d7d99145e5a6be45ea9528ebf8",
      "23d2b96847904860b65ab69da96cf4ed",
      "64bd973c44724a60a58cf44d4c08639b",
      "d3b2bd7df73f4100adcd78f22e870fc3",
      "a55aa45dd36e4109aa9523f93a92061b",
      "744a089ae34d406d93b568f7f4560c2d",
      "94009d1cdf6f433faf752eb3d4a5624f",
      "36816034d79f4d508ad58832ef8abff7",
      "340cabd579f3444daf260eabbd6f07a3"
     ]
    },
    "id": "DUBB6Pv0mWZv",
    "outputId": "a1865c85-14a2-42a9-889d-d3748f2095a1"
   },
   "outputs": [],
   "source": [
    "def clean_text(text):\n",
    "    text = re.sub(r'\\s+', ' ', text)\n",
    "    text = re.sub(r'[^\\w\\s.,?!]', '', text)\n",
    "    return text.strip()\n",
    "\n",
    "def extract_text_from_pdf(pdf_path):\n",
    "    doc = fitz.open(pdf_path)\n",
    "    full_text = \"\"\n",
    "    for page in doc:\n",
    "        full_text += page.get_text()\n",
    "    return full_text\n",
    "\n",
    "def extract_sections_by_user_input(text, section_names):\n",
    "    sections = {}\n",
    "    for idx, name in enumerate(section_names):\n",
    "        current = re.escape(name)\n",
    "        if idx < len(section_names) - 1:\n",
    "            next_name = re.escape(section_names[idx + 1])\n",
    "            pattern = rf'(?i)(?:\\d+\\.\\s*)?{current}\\b[\\s\\S]+?(?=(?:\\d+\\.\\s*)?{next_name}\\b)'\n",
    "        else:\n",
    "            pattern = rf'(?i)(?:\\d+\\.\\s*)?{current}\\b[\\s\\S]+'\n",
    "        match = re.search(pattern, text)\n",
    "        if match:\n",
    "            sections[name] = match.group(0).strip()\n",
    "    return sections\n",
    "\n",
    "def summarize_long_text(text, summarizer, max_chunk_len=1024, max_chunks=3):\n",
    "    chunks = textwrap.wrap(text, width=max_chunk_len)\n",
    "    summaries = []\n",
    "    for chunk in chunks[:max_chunks]:\n",
    "        try:\n",
    "            summary = summarizer(chunk, max_length=80, min_length=20, do_sample=False)[0]['summary_text']\n",
    "            summaries.append(summary)\n",
    "        except Exception as e:\n",
    "            summaries.append(\"[요약 실패] \" + str(e))\n",
    "    return ' '.join(summaries)\n",
    "\n",
    "def pretty_print_summary(summary_text):\n",
    "    sentences = re.split(r'(?<=[.!?]) +', summary_text.strip())\n",
    "    for s in sentences:\n",
    "        print(s.strip())\n",
    "\n",
    "# model\n",
    "summarizer = pipeline(\"summarization\", model=\"sshleifer/distilbart-cnn-12-6\")"
   ]
  },
  {
   "cell_type": "code",
   "execution_count": null,
   "metadata": {
    "colab": {
     "base_uri": "https://localhost:8080/"
    },
    "id": "qSU3f-X4ma-w",
    "outputId": "bc677d78-cd3b-4256-a0c4-ef904692721a"
   },
   "outputs": [],
   "source": [
    "# User input\n",
    "input_sections = input(\"Enter the exact section name you want to summmarize, separated by ',' (ex: Abstract, Introduction, Methods): \")\n",
    "section_names = [s.strip().lower() for s in input_sections.split(\",\")]\n",
    "\n",
    "# Target paper\n",
    "pdf_path = \"/content/drive/MyDrive/Colab Notebooks/papers/Project Report Predicting Used Car Price.pdf\"\n",
    "text = extract_text_from_pdf(pdf_path).lower()\n",
    "\n",
    "# Extract section\n",
    "sections = extract_sections_by_user_input(text, section_names)\n",
    "\n",
    "if not sections:\n",
    "    print(\"Cannot find section name in the paper. Check out the misspelling or the exact format.\")\n",
    "else:\n",
    "    summary_results = {}\n",
    "    for sec, content in sections.items():\n",
    "        if len(content.strip()) < 50:\n",
    "            summary_results[sec] = \"[Content is too short to summarize]\"\n",
    "            continue\n",
    "        summary_results[sec] = summarize_long_text(content, summarizer)\n",
    "\n",
    "    # Print summary\n",
    "    for sec, summary in summary_results.items():\n",
    "        print(f\"\\n[Section: {sec.upper()} summary]\")\n",
    "        pretty_print_summary(summary)"
   ]
  },
  {
   "cell_type": "markdown",
   "metadata": {
    "id": "4SIFgve6mAnf"
   },
   "source": [
    "## [2] 쿼리 기반 유사 논문 검색"
   ]
  },
  {
   "cell_type": "code",
   "execution_count": null,
   "metadata": {
    "colab": {
     "base_uri": "https://localhost:8080/"
    },
    "id": "4G_CPCkvmBU1",
    "outputId": "3e6fe3bb-686f-45b6-d861-478503717f9d"
   },
   "outputs": [],
   "source": [
    "!pip install arxiv sentence-transformers faiss-cpu --quiet"
   ]
  },
  {
   "cell_type": "code",
   "execution_count": null,
   "metadata": {
    "id": "-Lk1yh2qy3Ih"
   },
   "outputs": [],
   "source": [
    "import arxiv\n",
    "from sentence_transformers import SentenceTransformer\n",
    "import faiss\n",
    "import numpy as np\n",
    "from typing import List, Dict"
   ]
  },
  {
   "cell_type": "code",
   "execution_count": null,
   "metadata": {
    "id": "HHGCTGPQxEHx"
   },
   "outputs": [],
   "source": [
    "class ArxivPaperSearch:\n",
    "    def __init__(self):\n",
    "        self.model = SentenceTransformer('BAAI/bge-large-en-v1.5')\n",
    "        self.index = None\n",
    "        self.paper_data = []\n",
    "\n",
    "    def fetch_papers(self, category: str = \"cs.LG\", max_results: int = 500) -> List[Dict]:\n",
    "        \"\"\"arXiv API를 사용하여 논문 데이터 수집\"\"\"\n",
    "        search = arxiv.Search(\n",
    "            query=f'cat:{category}',\n",
    "            max_results=max_results,\n",
    "            sort_by=arxiv.SortCriterion.SubmittedDate\n",
    "        )\n",
    "\n",
    "        papers = []\n",
    "        for paper in arxiv.Client().results(search):\n",
    "            papers.append({\n",
    "                \"title\": paper.title,\n",
    "                \"abstract\": paper.summary.replace('\\n', ' '),\n",
    "                \"authors\": [a.name for a in paper.authors],\n",
    "                \"published\": paper.published.strftime(\"%Y-%m-%d\"),\n",
    "                \"doi\": paper.entry_id,\n",
    "                \"pdf_url\": next(link.href for link in paper.links if link.title == \"pdf\")\n",
    "            })\n",
    "        return papers\n",
    "\n",
    "    def build_index(self, papers: List[Dict]) -> None:\n",
    "        \"\"\"FAISS 인덱스 구축\"\"\"\n",
    "        abstracts = [f\"{p['title']} {p['abstract']}\" for p in papers] # 제목 + 초록을 연결(concatenate)하여 사용\n",
    "        embeddings = self.model.encode(abstracts, normalize_embeddings=True)\n",
    "\n",
    "        dimension = embeddings.shape[1]\n",
    "        self.index = faiss.IndexFlatIP(dimension)\n",
    "        self.index.add(embeddings)\n",
    "        self.paper_data = papers\n",
    "\n",
    "    def search_similar(self, query: str, top_k: int = 10) -> List[Dict]:\n",
    "        \"\"\"유사 논문 검색\"\"\"\n",
    "        query_embedding = self.model.encode([query], normalize_embeddings=True)\n",
    "        distances, indices = self.index.search(query_embedding, top_k)\n",
    "\n",
    "        results = []\n",
    "        for idx, score in zip(indices[0], distances[0]):\n",
    "            if score > 0.3:  # 유사도 임계값 설정\n",
    "                paper = self.paper_data[idx]\n",
    "                paper['similarity'] = float(score)\n",
    "                results.append(paper)\n",
    "        return sorted(results, key=lambda x: x['similarity'], reverse=True)"
   ]
  },
  {
   "cell_type": "markdown",
   "metadata": {
    "id": "0RP3Hhs9xIJM"
   },
   "source": [
    "| 코드      | 분야 이름                          | 설명                         |\n",
    "| ------- | ------------------------------ | -------------------------- |\n",
    "| `cs.AI` | Artificial Intelligence        | 인공지능, 지식 표현, 계획, 전문가 시스템 등 |\n",
    "| `cs.LG` | Machine Learning               | 지도/비지도/강화 학습, 딥러닝 포함       |\n",
    "| `cs.CL` | Computation and Language       | 자연어 처리 (NLP), 언어 모델        |\n",
    "| `cs.CV` | Computer Vision                | 이미지 분류, 객체 탐지, 영상 처리 등     |\n",
    "| `cs.IR` | Information Retrieval          | 검색 시스템, 추천 시스템             |\n",
    "| `cs.DS` | Data Structures and Algorithms | 알고리즘 설계, 복잡도 이론            |\n",
    "| `cs.CR` | Cryptography and Security      | 암호학, 보안 프로토콜, 시스템 보안       |\n",
    "| `cs.RO` | Robotics                       | 로봇공학, 자율주행, 로보틱 모션         |\n",
    "| `cs.HC` | Human-Computer Interaction     | 사용자 인터페이스, UX              |\n",
    "| `cs.SE` | Software Engineering           | 소프트웨어 개발, 테스트, 유지보수        |\n",
    "| `stat.ML` | Machine Learning | 통계적 관점의 머신러닝               |\n",
    "| `stat.AP` | Applications     | 다양한 분야의 통계 응용              |\n",
    "| `stat.TH` | Theory           | 수리적 통계 이론                  |\n",
    "| `stat.CO` | Computation      | 통계적 계산 방법, MCMC, EM 알고리즘 등 |\n",
    "| `math.OC` | Optimization and Control | 최적화 이론, 제어 이론 |\n",
    "| `math.ST` | Statistics               | 수학적 통계        |\n",
    "| `math.PR` | Probability              | 확률 이론         |"
   ]
  },
  {
   "cell_type": "code",
   "execution_count": null,
   "metadata": {
    "colab": {
     "base_uri": "https://localhost:8080/"
    },
    "id": "qmRAlp5GxECU",
    "outputId": "d365c447-7e32-4e30-a22d-f22e319caa14"
   },
   "outputs": [],
   "source": [
    "# 사용 예시\n",
    "if __name__ == \"__main__\":\n",
    "    search_system = ArxivPaperSearch()\n",
    "\n",
    "    # 1. arXiv에서 머신러닝 분야 논문 500편 수집\n",
    "    papers = search_system.fetch_papers(category=\"cs.LG\", max_results=500)\n",
    "\n",
    "    # 2. 임베딩 인덱스 구축\n",
    "    search_system.build_index(papers)\n",
    "\n",
    "    # 3. 유사 논문 검색 실행\n",
    "    # query = \"Used car price prediction using machine learning techniques\"\n",
    "    query = input(\"Query: \")\n",
    "    results = search_system.search_similar(query)\n",
    "\n",
    "    # 4. 결과 출력\n",
    "    print(f\"검색 결과 ({len(results)}건):\")\n",
    "    for i, paper in enumerate(results[:5]):\n",
    "        print(f\"\\n{i+1}. {paper['title']}\")\n",
    "        print(f\"   유사도: {paper['similarity']:.3f}\")\n",
    "        print(f\"   요약: {paper['abstract'][:150]}...\")\n",
    "        print(f\"   PDF: {paper['pdf_url']}\")"
   ]
  },
  {
   "cell_type": "markdown",
   "metadata": {
    "id": "_dXbkMDh1k4M"
   },
   "source": [
    "## [3] 논문 기반 Q & A"
   ]
  },
  {
   "cell_type": "code",
   "execution_count": null,
   "metadata": {
    "colab": {
     "base_uri": "https://localhost:8080/",
     "height": 282,
     "referenced_widgets": [
      "9bdb70731d434adc97a5b1cb2397c510",
      "16817587611844f188fbc0e83e4c7cf7",
      "e47f4706cfa44cfc823ecd887daa2f34",
      "26d3f3339c454b549fb8ba0f2c10bdf5",
      "40bf11e48ad04d32bddbbea4553abcf8",
      "e07c9baad018402ea9052d7b31985f6b",
      "1e52fd7afa7c466c859fa2ff10358f54",
      "36ed30b7f68549718f34f6043b7987a6",
      "4116065ee594401484bd3557f93de92e",
      "7e9194d4d4c946a4af4c190f094e3be9",
      "c687ef366acd4085b732fa94de556a4a",
      "34eed8bd86d54ebbbf767a45f93a2cf6",
      "c63c380ead4c4f7b87efd3778ccbb10b",
      "57ce80c071814f70803937593f54252f",
      "0101b473645644bcaa029e02735200c5",
      "52b7cca0a8c44950b78b14c152b9b7e8",
      "68ceb9688fa24f2495f1eb59240e48ca",
      "28f96ebfb9be48879b77c74bfc76b794",
      "3f78d4cdf0a7479f90a42f1fa824579f",
      "e859c339316f49028b4abcd72be03427",
      "1f594ceb0ed74215aa01389eb933efc5",
      "c9db5fbb7fd646f3bf75073edcce677b",
      "e7f05674976d45a98ab1887cc023fef8",
      "f25b9924bc954797a3f08d7610dc7d6b",
      "dbe75a3734644567ad956ce774bccbf9",
      "b91ea59ccfe4449ebff0ee64c7c1dc64",
      "a6c53668d3f44fbdae5791f93bae5476",
      "68c070f8d44743399d8a59f3daa0266e",
      "7aeae4c969c047f3abd11530bc22e87f",
      "2ba37d4a1c3542abaee89969833f9fd5",
      "012fbad25e144bd0a0c7850fc60eca2b",
      "ba5a5cc7a629491a9590b6fe0b6d0e44",
      "3207d1d2961b40eba2e37f97b0777fe9",
      "5212fb88df2d4811b5bb2de67b76d143",
      "4958790858e5498bb1bdee8b0c8bb169",
      "499fe63a51164785949cd03812bbb925",
      "6c5e3dd6747c4ada81f9b8d94262f995",
      "9a22384d51f6476f9a33ad23ee85ff5b",
      "9c94d54dfe694147bde0e65179d3071a",
      "20a5be63390d4375ba08e03a690bcf31",
      "eb40260b185146f6b4ee5bf0a86ff2d7",
      "1d2ab970a1ed4bbc938eec0272c6636e",
      "a23f8d418c95407b891ce8345c4536f9",
      "9b974d6b93d94381ae3b16db8c432fdf",
      "c09f5b6e35ec403c80d51c7d5a1da1ac",
      "52096acbf54f4d4d9d971cd606fdd152",
      "a2260baf32164ff9879f33469c28aca0",
      "d2256215a42e446a9484ef4720d9cb36",
      "d9b158bb19484d9da9569785c679d8d9",
      "8b9fc5be3cf24a2d80708fa287131118",
      "08e6050fc9934081bf6eb2b3395ba08d",
      "38d5b0446efd49eeb47a866a5f8567d6",
      "89132b24e68f4bfda13d102c939d3890",
      "99ef7a5be29a4fb980365c4b85bb1b1a",
      "07565e75ddae46d49b7f42a566d8d4f2",
      "c8f09cb180404c969891ed3cfd195c54",
      "dae49f1966fe4275b577303e0850c232",
      "bad1c91afced4a139e16ac82ba5705d1",
      "a611203994bc4d209dbe17f7f5963633",
      "f3081ff0d02c4c48a00d12e908940984",
      "f92a813d9c294efa8493b88d0130aa6f",
      "5950fd65c5354d359e0d2ca4479c5aca",
      "8770434ccc7743a295bd821a3a2affc4",
      "638882b97c6a4b63ab19edefed9f5a0d",
      "08ca21e0861e4af38559380c473c97a7",
      "ae1b6aebeb924798ab55f0539c3516a1"
     ]
    },
    "id": "zVOpYoemIplY",
    "outputId": "0bf52d23-bec5-4068-d098-60d6c3189117"
   },
   "outputs": [],
   "source": [
    "from transformers import pipeline\n",
    "import fitz\n",
    "\n",
    "# PDF에서 텍스트 추출\n",
    "doc = fitz.open(\"/content/drive/MyDrive/Colab Notebooks/papers/Project Report Predicting Used Car Price.pdf\")\n",
    "full_text = \"\"\n",
    "for page in doc:\n",
    "    full_text += page.get_text()\n",
    "\n",
    "# 슬라이딩 윈도우로 나누기 (예: 1000자 단위, 500자 겹치기)\n",
    "window_size = 1000\n",
    "stride = 500\n",
    "contexts = []\n",
    "for i in range(0, len(full_text), stride):\n",
    "    contexts.append(full_text[i:i+window_size])\n",
    "\n",
    "# QA 파이프라인\n",
    "qa_pipeline = pipeline(\"question-answering\", model=\"deepset/roberta-base-squad2\")\n",
    "\n",
    "# 각 구간별로 QA 수행\n",
    "question = \"What data was used?\"\n",
    "answers = []\n",
    "for ctx in contexts:\n",
    "    result = qa_pipeline(question=question, context=ctx)\n",
    "    if result[\"score\"] > 0.2:  # confidence 임계값 설정 (필요시 조정)\n",
    "        answers.append((result[\"answer\"], result[\"score\"]))\n",
    "\n",
    "# confidence가 높은 순으로 정렬\n",
    "answers.sort(key=lambda x: x[1], reverse=True)\n",
    "\n",
    "# 최상위 답변 출력\n",
    "if answers:\n",
    "    print(\"Best Answer:\", answers[0][0])\n",
    "    print(\"Confidence:\", answers[0][1])\n",
    "else:\n",
    "    print(\"No answer found.\")"
   ]
  }
 ],
 "metadata": {
  "accelerator": "GPU",
  "colab": {
   "gpuType": "T4",
   "provenance": []
  },
  "kernelspec": {
   "display_name": "Python 3",
   "name": "python3"
  },
  "language_info": {
   "name": "python"
  }
 },
 "nbformat": 4,
 "nbformat_minor": 0
}
